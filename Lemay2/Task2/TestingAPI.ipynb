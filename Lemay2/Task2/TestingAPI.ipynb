{
 "cells": [
  {
   "cell_type": "markdown",
   "id": "395ada93",
   "metadata": {},
   "source": [
    "## TASK 2 - MODEL DEPLOYMENT DEMONSTRATION"
   ]
  },
  {
   "cell_type": "code",
   "execution_count": 81,
   "id": "32b68eea",
   "metadata": {},
   "outputs": [],
   "source": [
    "import requests\n",
    "import json"
   ]
  },
  {
   "cell_type": "code",
   "execution_count": 90,
   "id": "03e79d7a",
   "metadata": {},
   "outputs": [],
   "source": [
    "url = \"http://0.0.0.0:80/classification\"\n",
    "#sample data to test API\n",
    "positive_sample = {'text': 'Hello, my dog is cute'}\n",
    "negative_sample = {'text': 'I am scared' }"
   ]
  },
  {
   "cell_type": "code",
   "execution_count": 94,
   "id": "63858dce",
   "metadata": {},
   "outputs": [
    {
     "name": "stdout",
     "output_type": "stream",
     "text": [
      "\n",
      "Response for positive sample\n",
      "[{'label': 'POSITIVE', 'score': 0.9997830986976624}]\n",
      "\n",
      "Response for negative sample\n",
      "[{'label': 'NEGATIVE', 'score': 0.9985380172729492}]\n"
     ]
    }
   ],
   "source": [
    "#test API\n",
    "print('\\nResponse for positive sample')\n",
    "response = requests.get(url, params=positive_sample)\n",
    "print(response.json())\n",
    "print('\\nResponse for negative sample')\n",
    "response = requests.get(url, params=negative_sample)\n",
    "print(response.json())"
   ]
  }
 ],
 "metadata": {
  "kernelspec": {
   "display_name": "ml",
   "language": "python",
   "name": "ml"
  },
  "language_info": {
   "codemirror_mode": {
    "name": "ipython",
    "version": 3
   },
   "file_extension": ".py",
   "mimetype": "text/x-python",
   "name": "python",
   "nbconvert_exporter": "python",
   "pygments_lexer": "ipython3",
   "version": "3.9.13"
  }
 },
 "nbformat": 4,
 "nbformat_minor": 5
}
